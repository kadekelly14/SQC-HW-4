{
  "nbformat": 4,
  "nbformat_minor": 0,
  "metadata": {
    "colab": {
      "provenance": [],
      "toc_visible": true
    },
    "kernelspec": {
      "name": "python3",
      "display_name": "Python 3"
    },
    "language_info": {
      "name": "python"
    }
  },
  "cells": [
    {
      "cell_type": "markdown",
      "source": [
        "13.4"
      ],
      "metadata": {
        "id": "wt81YwIOp9hO"
      }
    },
    {
      "cell_type": "code",
      "source": [
        "\n",
        "\n",
        "import pandas as pd\n",
        "\n",
        "data = {\n",
        "    'Run': ['(1)', 'a', 'b', 'ab', 'c', 'ac', 'bc', 'abc'],\n",
        "    'Replicant 1': [221, 325, 354, 552, 440, 406, 605, 392],\n",
        "    'Replicant 2': [311, 435, 348, 472, 453, 377, 500, 419]\n",
        "}\n",
        "\n",
        "df = pd.DataFrame(data)\n",
        "print(df)\n"
      ],
      "metadata": {
        "id": "dO7NvmvmcSi2"
      },
      "execution_count": null,
      "outputs": []
    },
    {
      "cell_type": "code",
      "source": [
        "\n",
        "\n",
        "import pandas as pd\n",
        "import statsmodels.api as sm\n",
        "from statsmodels.formula.api import ols\n",
        "\n",
        "\n",
        "data = {\n",
        "    'Run': ['(1)', 'a', 'b', 'ab', 'c', 'ac', 'bc', 'abc'],\n",
        "    'Replicant 1': [221, 325, 354, 552, 440, 406, 605, 392],\n",
        "    'Replicant 2': [311, 435, 348, 472, 453, 377, 500, 419]\n",
        "}\n",
        "df = pd.DataFrame(data)\n",
        "df['Average_Tool_Life'] = df[['Replicant 1', 'Replicant 2']].mean(axis=1)\n",
        "\n",
        "\n",
        "df_long = pd.melt(df, id_vars='Run', value_vars=['Replicant 1', 'Replicant 2'],\n",
        "                  var_name='Replicant', value_name='Tool_Life')\n",
        "df_long['Cutting_Speed'] = df_long['Run'].str.contains('a').astype(int)\n",
        "df_long['Metal_Hardness'] = df_long['Run'].str.contains('b').astype(int)\n",
        "df_long['Cutting_Angle'] = df_long['Run'].str.contains('c').astype(int)\n",
        "\n",
        "\n",
        "model = ols('Tool_Life ~ Cutting_Speed + Metal_Hardness + Cutting_Angle', data=df_long).fit()\n",
        "anova_table = sm.stats.anova_lm(model, typ=2)\n",
        "\n",
        "\n",
        "df['Cutting_Speed'] = df['Run'].str.contains('a').astype(int)\n",
        "df['Metal_Hardness'] = df['Run'].str.contains('b').astype(int)\n",
        "df['Cutting_Angle'] = df['Run'].str.contains('c').astype(int)\n",
        "\n",
        "best_combination = df.loc[df['Average_Tool_Life'].idxmax()]\n",
        "\n",
        "print(\"ANOVA Table:\")\n",
        "print(anova_table)\n",
        "print(\"\\nBest Combination for Longest Tool Life:\")\n",
        "print(best_combination)\n",
        "\n",
        "\n",
        "print(\"\\nAnalysis:\")\n",
        "if anova_table['PR(>F)']['Cutting_Speed'] < 0.05:\n",
        "    print(\"Cutting Speed significantly affects tool life.\")\n",
        "if anova_table['PR(>F)']['Metal_Hardness'] < 0.05:\n",
        "    print(\"Metal Hardness significantly affects tool life.\")\n",
        "if anova_table['PR(>F)']['Cutting_Angle'] < 0.05:\n",
        "    print(\"Cutting Angle significantly affects tool life.\")\n",
        "\n",
        "\n",
        "print(\"\\nThe combination of factor levels that produces the longest tool life is:\")\n",
        "print(best_combination[['Run', 'Average_Tool_Life']])\n"
      ],
      "metadata": {
        "colab": {
          "base_uri": "https://localhost:8080/"
        },
        "id": "ta5_GGIacczb",
        "outputId": "6b25bdae-3771-46ae-fb14-498744293f39"
      },
      "execution_count": null,
      "outputs": [
        {
          "output_type": "stream",
          "name": "stdout",
          "text": [
            "ANOVA Table:\n",
            "                  sum_sq    df         F    PR(>F)\n",
            "Cutting_Speed    1332.25   1.0  0.189709  0.670890\n",
            "Metal_Hardness  28392.25   1.0  4.042992  0.067375\n",
            "Cutting_Angle   20592.25   1.0  2.932290  0.112520\n",
            "Residual        84271.00  12.0       NaN       NaN\n",
            "\n",
            "Best Combination for Longest Tool Life:\n",
            "Run                     bc\n",
            "Replicant 1            605\n",
            "Replicant 2            500\n",
            "Average_Tool_Life    552.5\n",
            "Cutting_Speed            0\n",
            "Metal_Hardness           1\n",
            "Cutting_Angle            1\n",
            "Name: 6, dtype: object\n",
            "\n",
            "Analysis:\n",
            "\n",
            "The combination of factor levels that produces the longest tool life is:\n",
            "Run                     bc\n",
            "Average_Tool_Life    552.5\n",
            "Name: 6, dtype: object\n"
          ]
        }
      ]
    },
    {
      "cell_type": "code",
      "source": [
        "\n",
        "\n",
        "\n",
        "consistency_check = df.groupby(['Cutting_Speed', 'Cutting_Angle'])['Average_Tool_Life'].agg(['mean', 'std'])\n",
        "\n",
        "\n",
        "good_results_threshold = consistency_check['mean'].quantile(0.9)\n",
        "\n",
        "\n",
        "consistent_combinations = consistency_check[consistency_check['mean'] >= good_results_threshold].index.tolist()\n",
        "\n",
        "print(\"\\nConsistency Check (Mean and Standard Deviation of Tool Life by Cutting Speed & Cutting Angle):\")\n",
        "print(consistency_check)\n",
        "\n",
        "print(\"\\nCombinations with consistently good results (mean tool life above threshold):\")\n",
        "print(consistent_combinations)\n",
        "\n",
        "if len(consistent_combinations) > 0:\n",
        "  print(\"\\nYes, there are combinations of Cutting Speed and Cutting Angle that consistently give good results regardless of Metal Hardness.\")\n",
        "else:\n",
        "  print(\"\\nNo, there are no combinations of Cutting Speed and Cutting Angle that consistently give good results regardless of Metal Hardness.\")\n",
        "\n"
      ],
      "metadata": {
        "colab": {
          "base_uri": "https://localhost:8080/"
        },
        "id": "VHYeNEU3c3d3",
        "outputId": "2978ee40-d293-4830-e6ff-f2addff93ee9"
      },
      "execution_count": null,
      "outputs": [
        {
          "output_type": "stream",
          "name": "stdout",
          "text": [
            "\n",
            "Consistency Check (Mean and Standard Deviation of Tool Life by Cutting Speed & Cutting Angle):\n",
            "                              mean        std\n",
            "Cutting_Speed Cutting_Angle                  \n",
            "0             0              308.5  60.104076\n",
            "              1              499.5  74.953319\n",
            "1             0              446.0  93.338095\n",
            "              1              398.5   9.899495\n",
            "\n",
            "Combinations with consistently good results (mean tool life above threshold):\n",
            "[(0, 1)]\n",
            "\n",
            "Yes, there are combinations of Cutting Speed and Cutting Angle that consistently give good results regardless of Metal Hardness.\n"
          ]
        }
      ]
    },
    {
      "cell_type": "code",
      "source": [
        "\n",
        "\n",
        "print(model.summary())\n"
      ],
      "metadata": {
        "colab": {
          "base_uri": "https://localhost:8080/"
        },
        "id": "nHHzw1rjfx9b",
        "outputId": "22fd03e9-cd05-4205-ca4b-de664f07b6f4"
      },
      "execution_count": null,
      "outputs": [
        {
          "output_type": "stream",
          "name": "stdout",
          "text": [
            "                            OLS Regression Results                            \n",
            "==============================================================================\n",
            "Dep. Variable:              Tool_Life   R-squared:                       0.374\n",
            "Model:                            OLS   Adj. R-squared:                  0.217\n",
            "Method:                 Least Squares   F-statistic:                     2.388\n",
            "Date:                Thu, 10 Oct 2024   Prob (F-statistic):              0.120\n",
            "Time:                        22:14:33   Log-Likelihood:                -91.257\n",
            "No. Observations:                  16   AIC:                             190.5\n",
            "Df Residuals:                      12   BIC:                             193.6\n",
            "Df Model:                           3                                         \n",
            "Covariance Type:            nonrobust                                         \n",
            "==================================================================================\n",
            "                     coef    std err          t      P>|t|      [0.025      0.975]\n",
            "----------------------------------------------------------------------------------\n",
            "Intercept        326.0000     41.900      7.780      0.000     234.707     417.293\n",
            "Cutting_Speed     18.2500     41.900      0.436      0.671     -73.043     109.543\n",
            "Metal_Hardness    84.2500     41.900      2.011      0.067      -7.043     175.543\n",
            "Cutting_Angle     71.7500     41.900      1.712      0.113     -19.543     163.043\n",
            "==============================================================================\n",
            "Omnibus:                        1.167   Durbin-Watson:                   2.351\n",
            "Prob(Omnibus):                  0.558   Jarque-Bera (JB):                0.838\n",
            "Skew:                           0.224   Prob(JB):                        0.658\n",
            "Kurtosis:                       1.973   Cond. No.                         3.73\n",
            "==============================================================================\n",
            "\n",
            "Notes:\n",
            "[1] Standard Errors assume that the covariance matrix of the errors is correctly specified.\n"
          ]
        },
        {
          "output_type": "stream",
          "name": "stderr",
          "text": [
            "/usr/local/lib/python3.10/dist-packages/scipy/stats/_axis_nan_policy.py:531: UserWarning: kurtosistest only valid for n>=20 ... continuing anyway, n=16\n",
            "  res = hypotest_fun_out(*samples, **kwds)\n"
          ]
        }
      ]
    },
    {
      "cell_type": "markdown",
      "source": [
        "13.6"
      ],
      "metadata": {
        "id": "utBm_ZZMkSFu"
      }
    },
    {
      "cell_type": "code",
      "source": [
        "import pandas as pd\n",
        "import statsmodels.api as sm\n",
        "from statsmodels.formula.api import ols\n",
        "\n",
        "\n",
        "data = {\n",
        "    'Treatment_Combination': ['(1)', 'a', 'b', 'ab', 'c', 'ac', 'bc', 'abc',\n",
        "                             'd', 'ad', 'bd', 'abd', 'cd', 'acd', 'bcd', 'abcd'],\n",
        "    'Replicate_1': [188, 172, 179, 185, 175, 183, 190, 175,\n",
        "                    200, 170, 189, 183, 201, 181, 189, 178],\n",
        "    'Replicate_2': [195, 180, 187, 178, 180, 178, 180, 168,\n",
        "                    193, 178, 181, 188, 188, 173, 182, 182]\n",
        "}\n",
        "\n",
        "df = pd.DataFrame(data)\n",
        "df['Total_Score'] = df[['Replicate_1', 'Replicate_2']].mean(axis=1)\n",
        "\n",
        "\n",
        "df['Sweetener'] = df['Treatment_Combination'].str.contains('a').astype(int)\n",
        "df['Syrup_Water_Ratio'] = df['Treatment_Combination'].str.contains('b').astype(int)\n",
        "df['Carbonation_Level'] = df['Treatment_Combination'].str.contains('c').astype(int)\n",
        "df['Temperature'] = df['Treatment_Combination'].str.contains('d').astype(int)\n",
        "\n",
        "\n",
        "model = ols('Total_Score ~ Sweetener + Syrup_Water_Ratio + Carbonation_Level + Temperature - 1', data=df).fit()\n",
        "\n",
        "anova_table = sm.stats.anova_lm(model, typ=2)\n",
        "\n",
        "\n",
        "print(\"Dataframe:\")\n",
        "print(df)\n",
        "print(\"\\nANOVA Table:\")\n",
        "print(anova_table)\n",
        "\n",
        "\n",
        "best_combination = df.loc[df['Total_Score'].idxmax()]\n",
        "print(\"\\nBest Treatment Combination for Maximum Total Score:\")\n",
        "print(best_combination)"
      ],
      "metadata": {
        "colab": {
          "base_uri": "https://localhost:8080/"
        },
        "id": "35ioEnpXqnRM",
        "outputId": "7cd527a6-9a4d-47f0-884a-dbb922c66f7d"
      },
      "execution_count": null,
      "outputs": [
        {
          "output_type": "stream",
          "name": "stdout",
          "text": [
            "Dataframe:\n",
            "   Treatment_Combination  Replicate_1  Replicate_2  Total_Score  Sweetener  \\\n",
            "0                    (1)          188          195        191.5          0   \n",
            "1                      a          172          180        176.0          1   \n",
            "2                      b          179          187        183.0          0   \n",
            "3                     ab          185          178        181.5          1   \n",
            "4                      c          175          180        177.5          0   \n",
            "5                     ac          183          178        180.5          1   \n",
            "6                     bc          190          180        185.0          0   \n",
            "7                    abc          175          168        171.5          1   \n",
            "8                      d          200          193        196.5          0   \n",
            "9                     ad          170          178        174.0          1   \n",
            "10                    bd          189          181        185.0          0   \n",
            "11                   abd          183          188        185.5          1   \n",
            "12                    cd          201          188        194.5          0   \n",
            "13                   acd          181          173        177.0          1   \n",
            "14                   bcd          189          182        185.5          0   \n",
            "15                  abcd          178          182        180.0          1   \n",
            "\n",
            "    Syrup_Water_Ratio  Carbonation_Level  Temperature  \n",
            "0                   0                  0            0  \n",
            "1                   0                  0            0  \n",
            "2                   1                  0            0  \n",
            "3                   1                  0            0  \n",
            "4                   0                  1            0  \n",
            "5                   0                  1            0  \n",
            "6                   1                  1            0  \n",
            "7                   1                  1            0  \n",
            "8                   0                  0            1  \n",
            "9                   0                  0            1  \n",
            "10                  1                  0            1  \n",
            "11                  1                  0            1  \n",
            "12                  0                  1            1  \n",
            "13                  0                  1            1  \n",
            "14                  1                  1            1  \n",
            "15                  1                  1            1  \n",
            "\n",
            "ANOVA Table:\n",
            "                          sum_sq    df         F    PR(>F)\n",
            "Sweetener           21697.578125   1.0  2.311557  0.154318\n",
            "Syrup_Water_Ratio   27103.203125   1.0  2.887447  0.115024\n",
            "Carbonation_Level   26100.312500   1.0  2.780604  0.121276\n",
            "Temperature         31106.328125   1.0  3.313921  0.093711\n",
            "Residual           112638.750000  12.0       NaN       NaN\n",
            "\n",
            "Best Treatment Combination for Maximum Total Score:\n",
            "Treatment_Combination        d\n",
            "Replicate_1                200\n",
            "Replicate_2                193\n",
            "Total_Score              196.5\n",
            "Sweetener                    0\n",
            "Syrup_Water_Ratio            0\n",
            "Carbonation_Level            0\n",
            "Temperature                  1\n",
            "Name: 8, dtype: object\n"
          ]
        }
      ]
    },
    {
      "cell_type": "code",
      "source": [
        "\n",
        "\n",
        "print(model.summary())\n"
      ],
      "metadata": {
        "colab": {
          "base_uri": "https://localhost:8080/"
        },
        "id": "yVkThz7cqwou",
        "outputId": "0f1150a0-a21c-444a-8f3a-1072a513ef00"
      },
      "execution_count": null,
      "outputs": [
        {
          "output_type": "stream",
          "name": "stdout",
          "text": [
            "                                 OLS Regression Results                                \n",
            "=======================================================================================\n",
            "Dep. Variable:            Total_Score   R-squared (uncentered):                   0.790\n",
            "Model:                            OLS   Adj. R-squared (uncentered):              0.719\n",
            "Method:                 Least Squares   F-statistic:                              11.26\n",
            "Date:                Thu, 10 Oct 2024   Prob (F-statistic):                    0.000498\n",
            "Time:                        23:02:28   Log-Likelihood:                         -93.578\n",
            "No. Observations:                  16   AIC:                                      195.2\n",
            "Df Residuals:                      12   BIC:                                      198.2\n",
            "Df Model:                           4                                                  \n",
            "Covariance Type:            nonrobust                                                  \n",
            "=====================================================================================\n",
            "                        coef    std err          t      P>|t|      [0.025      0.975]\n",
            "-------------------------------------------------------------------------------------\n",
            "Sweetener            65.8750     43.328      1.520      0.154     -28.529     160.279\n",
            "Syrup_Water_Ratio    73.6250     43.328      1.699      0.115     -20.779     168.029\n",
            "Carbonation_Level    72.2500     43.328      1.668      0.121     -22.154     166.654\n",
            "Temperature          78.8750     43.328      1.820      0.094     -15.529     173.279\n",
            "==============================================================================\n",
            "Omnibus:                        0.012   Durbin-Watson:                   0.713\n",
            "Prob(Omnibus):                  0.994   Jarque-Bera (JB):                0.143\n",
            "Skew:                           0.038   Prob(JB):                        0.931\n",
            "Kurtosis:                       2.543   Cond. No.                         2.24\n",
            "==============================================================================\n",
            "\n",
            "Notes:\n",
            "[1] R² is computed without centering (uncentered) since the model does not contain a constant.\n",
            "[2] Standard Errors assume that the covariance matrix of the errors is correctly specified.\n"
          ]
        },
        {
          "output_type": "stream",
          "name": "stderr",
          "text": [
            "/usr/local/lib/python3.10/dist-packages/scipy/stats/_axis_nan_policy.py:531: UserWarning: kurtosistest only valid for n>=20 ... continuing anyway, n=16\n",
            "  res = hypotest_fun_out(*samples, **kwds)\n"
          ]
        }
      ]
    }
  ]
}